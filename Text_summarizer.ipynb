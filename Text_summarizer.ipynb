{
  "nbformat": 4,
  "nbformat_minor": 0,
  "metadata": {
    "colab": {
      "name": "Text summarizer.ipynb",
      "provenance": [],
      "collapsed_sections": []
    },
    "kernelspec": {
      "name": "python3",
      "display_name": "Python 3"
    },
    "language_info": {
      "name": "python"
    },
    "widgets": {
      "application/vnd.jupyter.widget-state+json": {
        "735fb3ab725149fda8f16f264719fca6": {
          "model_module": "@jupyter-widgets/controls",
          "model_name": "IntSliderModel",
          "model_module_version": "1.5.0",
          "state": {
            "_view_name": "IntSliderView",
            "style": "IPY_MODEL_4f95218e9e174fa08b7635b6d25bf21b",
            "_dom_classes": [],
            "description": "",
            "step": 1,
            "_model_name": "IntSliderModel",
            "orientation": "horizontal",
            "max": 20,
            "_view_module": "@jupyter-widgets/controls",
            "_model_module_version": "1.5.0",
            "value": 4,
            "_view_count": null,
            "disabled": false,
            "_view_module_version": "1.5.0",
            "min": 0,
            "continuous_update": true,
            "readout_format": "d",
            "description_tooltip": null,
            "readout": true,
            "_model_module": "@jupyter-widgets/controls",
            "layout": "IPY_MODEL_0686ba06ed2f49da9cf0570e8d31ad9d"
          }
        },
        "4f95218e9e174fa08b7635b6d25bf21b": {
          "model_module": "@jupyter-widgets/controls",
          "model_name": "SliderStyleModel",
          "model_module_version": "1.5.0",
          "state": {
            "_view_name": "StyleView",
            "handle_color": null,
            "_model_name": "SliderStyleModel",
            "description_width": "",
            "_view_module": "@jupyter-widgets/base",
            "_model_module_version": "1.5.0",
            "_view_count": null,
            "_view_module_version": "1.2.0",
            "_model_module": "@jupyter-widgets/controls"
          }
        },
        "0686ba06ed2f49da9cf0570e8d31ad9d": {
          "model_module": "@jupyter-widgets/base",
          "model_name": "LayoutModel",
          "model_module_version": "1.2.0",
          "state": {
            "_view_name": "LayoutView",
            "grid_template_rows": null,
            "right": null,
            "justify_content": null,
            "_view_module": "@jupyter-widgets/base",
            "overflow": null,
            "_model_module_version": "1.2.0",
            "_view_count": null,
            "flex_flow": null,
            "width": null,
            "min_width": null,
            "border": null,
            "align_items": null,
            "bottom": null,
            "_model_module": "@jupyter-widgets/base",
            "top": null,
            "grid_column": null,
            "overflow_y": null,
            "overflow_x": null,
            "grid_auto_flow": null,
            "grid_area": null,
            "grid_template_columns": null,
            "flex": null,
            "_model_name": "LayoutModel",
            "justify_items": null,
            "grid_row": null,
            "max_height": null,
            "align_content": null,
            "visibility": null,
            "align_self": null,
            "height": null,
            "min_height": null,
            "padding": null,
            "grid_auto_rows": null,
            "grid_gap": null,
            "max_width": null,
            "order": null,
            "_view_module_version": "1.2.0",
            "grid_template_areas": null,
            "object_position": null,
            "object_fit": null,
            "grid_auto_columns": null,
            "margin": null,
            "display": null,
            "left": null
          }
        }
      }
    }
  },
  "cells": [
    {
      "cell_type": "code",
      "metadata": {
        "colab": {
          "base_uri": "https://localhost:8080/",
          "height": 117,
          "referenced_widgets": [
            "735fb3ab725149fda8f16f264719fca6",
            "4f95218e9e174fa08b7635b6d25bf21b",
            "0686ba06ed2f49da9cf0570e8d31ad9d"
          ]
        },
        "id": "5SZqC66HPFG7",
        "outputId": "0b33a748-78a0-44c0-ae7f-d9ea6822c424"
      },
      "source": [
        "import nltk\n",
        "import string\n",
        "from heapq import nlargest\n",
        "nltk.download('stopwords')\n",
        "nltk.download('punkt')\n",
        "import ipywidgets as widgets\n",
        "\n",
        "slider = widgets.IntSlider(5, min=0, max=20)\n",
        "slider\n",
        "#slider below can adjust the degree of summarization\n"
      ],
      "execution_count": null,
      "outputs": [
        {
          "output_type": "stream",
          "text": [
            "[nltk_data] Downloading package stopwords to /root/nltk_data...\n",
            "[nltk_data]   Package stopwords is already up-to-date!\n",
            "[nltk_data] Downloading package punkt to /root/nltk_data...\n",
            "[nltk_data]   Package punkt is already up-to-date!\n"
          ],
          "name": "stdout"
        },
        {
          "output_type": "display_data",
          "data": {
            "application/vnd.jupyter.widget-view+json": {
              "model_id": "735fb3ab725149fda8f16f264719fca6",
              "version_minor": 0,
              "version_major": 2
            },
            "text/plain": [
              "IntSlider(value=5, max=20)"
            ]
          },
          "metadata": {
            "tags": []
          }
        }
      ]
    },
    {
      "cell_type": "code",
      "metadata": {
        "id": "kKpTLAuygQPE"
      },
      "source": [
        "length=slider.get_state()[\"value\"]\n"
      ],
      "execution_count": null,
      "outputs": []
    },
    {
      "cell_type": "code",
      "metadata": {
        "id": "AA0C8uboPOIv"
      },
      "source": [
        "def Summarize(text):\n",
        "  #if text.count(\". \") > 20:\n",
        "    #length = int(round(text.count(\". \")/10, 0))\n",
        "  #else:\n",
        "    #length = 1\n",
        "  #text=input(\"enter your sentence here\")\n",
        "\n",
        "  nopuch =[char for char in text if char not in string.punctuation]\n",
        "  nopuch = \"\".join(nopuch)\n",
        "\n",
        "  processed_text = [word for word in nopuch.split() if word.lower() not in nltk.corpus.stopwords.words('english')]\n",
        "\n",
        "  word_freq = {}\n",
        "  for word in processed_text:\n",
        "      if word not in word_freq:\n",
        "          word_freq[word] = 1\n",
        "      else:\n",
        "          word_freq[word] = word_freq[word] + 1\n",
        "\n",
        "  max_freq = max(word_freq.values())\n",
        "  for word in word_freq.keys():\n",
        "      word_freq[word] = (word_freq[word]/max_freq)\n",
        "\n",
        "  sent_list = nltk.sent_tokenize(text)\n",
        "  sent_score = {}\n",
        "  for sent in sent_list:\n",
        "      for word in nltk.word_tokenize(sent.lower()):\n",
        "          if word in word_freq.keys():\n",
        "              if sent not in sent_score.keys():\n",
        "                  sent_score[sent] = word_freq[word]\n",
        "              else:\n",
        "                  sent_score[sent] = sent_score[sent] + word_freq[word]\n",
        "\n",
        "  summary_sents = nlargest(length, sent_score, key=sent_score.get)\n",
        "  return \" \".join(summary_sents)"
      ],
      "execution_count": null,
      "outputs": []
    },
    {
      "cell_type": "code",
      "metadata": {
        "colab": {
          "base_uri": "https://localhost:8080/"
        },
        "id": "yCmTY1cqVTLY",
        "outputId": "87cc4026-e5ec-4280-df4e-8bc39ecef299"
      },
      "source": [
        "Summarize(\"Machine learning involves computers discovering how they can perform tasks without being explicitly programmed to do so. It involves computers learning from data provided so that they carry out certain tasks. For simple tasks assigned to computers, it is possible to program algorithms telling the machine how to execute all steps required to solve the problem at hand; on the computer's part, no learning is needed. For more advanced tasks, it can be challenging for a human to manually create the needed algorithms. In practice, it can turn out to be more effective to help the machine develop its own algorithm, rather than having human programmers specify every needed step. The discipline of machine learning employs various approaches to teach computers to accomplish tasks where no fully satisfactory algorithm is available. In cases where vast numbers of potential answers exist, one approach is to label some of the correct answers as valid. This can then be used as training data for the computer to improve the algorithm(s) it uses to determine correct answers. For example, to train a system for the task of digital character recognition, the MNIST dataset of handwritten digits has often been used\")"
      ],
      "execution_count": null,
      "outputs": [
        {
          "output_type": "stream",
          "text": [
            "enter your sentence hereimport IPython import uuid from google.colab import output  class InvokeButton(object):   def __init__(self, title, callback):     self._title = title     self._callback = callback    def _repr_html_(self):     callback_id = 'button-' + str(uuid.uuid4())     output.register_callback(callback_id, self._callback)      template = \"\"\"<button id=\"{callback_id}\">{title}</button>         <script>           document.querySelector(\"#{callback_id}\").onclick = (e) => {{             google.colab.kernel.invokeFunction('{callback_id}', [], {{}})             e.preventDefault();           }};         </script>\"\"\"     html = template.format(title=self._title, callback_id=callback_id)     return html  def do_something():   print('here')  InvokeButton('click me', do_something)\n",
            "import IPython import uuid from google.colab import output  class InvokeButton(object):   def __init__(self, title, callback):     self._title = title     self._callback = callback    def _repr_html_(self):     callback_id = 'button-' + str(uuid.uuid4())     output.register_callback(callback_id, self._callback)      template = \"\"\"<button id=\"{callback_id}\">{title}</button>         <script>           document.querySelector(\"#{callback_id}\").onclick = (e) => {{             google.colab.kernel.invokeFunction('{callback_id}', [], {{}})             e.preventDefault();           }};         </script>\"\"\"     html = template.format(title=self._title, callback_id=callback_id)     return html  def do_something():   print('here')  InvokeButton('click me', do_something)\n"
          ],
          "name": "stdout"
        }
      ]
    },
    {
      "cell_type": "code",
      "metadata": {
        "id": "paaBVF8KY-qT"
      },
      "source": [
        ""
      ],
      "execution_count": null,
      "outputs": []
    },
    {
      "cell_type": "code",
      "metadata": {
        "id": "wqNqzYH7aZva"
      },
      "source": [
        ""
      ],
      "execution_count": null,
      "outputs": []
    },
    {
      "cell_type": "code",
      "metadata": {
        "id": "9hytK-bSajfC"
      },
      "source": [
        ""
      ],
      "execution_count": null,
      "outputs": []
    }
  ]
}